{
  "cells": [
    {
      "cell_type": "markdown",
      "metadata": {
        "id": "VBMhu_S_A2-3"
      },
      "source": [
        "# **ArangoRDF**\n",
        "\n",
        "<img src=\"https://github.com/ArangoDB-Community/ArangoRDF/blob/main/examples/assets/adb_logo.png?raw=1\" alt=\"rdf\" width=\"250\"/>\n",
        "<img src=\"https://github.com/ArangoDB-Community/ArangoRDF/blob/main/examples/assets/rdf_logo.png?raw=1\" alt=\"rdf\" width=\"200\"/>"
      ]
    },
    {
      "cell_type": "markdown",
      "metadata": {},
      "source": [
        "# **Run the full version with Google Colab**\n",
        "<img src=\"https://colab.research.google.com/assets/colab-badge.svg\" href=\"https://colab.research.google.com/github/ArangoDB-Community/ArangoRDF/blob/main/examples/ArangoRDF.ipynb\" alt=\"Open In Colab\"/>"
      ]
    },
    {
      "cell_type": "markdown",
      "metadata": {
        "id": "44mc2EvIAzDy"
      },
      "source": [
        "# Setup"
      ]
    },
    {
      "cell_type": "code",
      "execution_count": null,
      "metadata": {
        "id": "W4WlZsOCAjgV"
      },
      "outputs": [],
      "source": [
        "%%capture\n",
        "!pip install adb-cloud-connector\n",
        "!pip install arango-rdf\n",
        "!git clone -b \"main\" https://github.com/ArangoDB-Community/ArangoRDF.git "
      ]
    },
    {
      "cell_type": "code",
      "execution_count": null,
      "metadata": {
        "id": "wMtfVlvuApDp"
      },
      "outputs": [],
      "source": [
        "from arango import ArangoClient\n",
        "from adb_cloud_connector import get_temp_credentials\n",
        "import json\n",
        "\n",
        "from arango_rdf import ArangoRDF"
      ]
    },
    {
      "cell_type": "markdown",
      "metadata": {
        "id": "KnQifktFAxHx"
      },
      "source": [
        "# Create a Temporary ArangoDB Cloud Instance"
      ]
    },
    {
      "cell_type": "code",
      "execution_count": null,
      "metadata": {
        "id": "ETS8l_NSAv0F"
      },
      "outputs": [],
      "source": [
        "# Request temporary instance from the managed ArangoDB Cloud Service.\n",
        "con = get_temp_credentials()\n",
        "print(json.dumps(con, indent=2))\n",
        "\n",
        "# Connect to the db via the python-arango driver\n",
        "db = ArangoClient(hosts=con[\"url\"]).db(con[\"dbName\"], con[\"username\"], con[\"password\"], verify=True)"
      ]
    },
    {
      "cell_type": "markdown",
      "metadata": {
        "id": "yRuJ3OIGE2Yr"
      },
      "source": [
        "# About RDF\n",
        "RDF is a standard model for data interchange on the Web. RDF has features that facilitate data merging even if the underlying schemas differ, and it specifically supports the evolution of schemas over time without requiring all the data consumers to be changed.\n",
        "\n",
        "RDF extends the linking structure of the Web to use URIs to name the relationship between things as well as the two ends of the link (this is usually referred to as a \"triple\"). Using this simple model, it allows structured and semi-structured data to be mixed, exposed, and shared across different applications.\n",
        "\n",
        "This linking structure forms a directed, labeled graph, where the edges represent the named link between two resources, represented by the graph nodes. This graph view is the easiest possible mental model for RDF and is often used in easy-to-understand visual explanations.\n",
        "\n",
        "Resources to get started:\n",
        "\n",
        "* [RDF Primer](https://www.w3.org/TR/rdf11-concepts/)\n",
        "* [RDFLib (Python)](https://pypi.org/project/rdflib/)\n",
        "* [One Example for Modeling RDF as ArangoDB Graphs](https://www.arangodb.com/docs/stable/data-modeling-graphs-from-rdf.html)"
      ]
    },
    {
      "cell_type": "markdown",
      "metadata": {
        "id": "gFn4w2HlGAMN"
      },
      "source": [
        "# Get Started with ArangoRDF\n",
        "\n",
        "\n",
        "## Initialization\n",
        "The first steps to take when attempting to import RDF data to ArangoDB involves:\n",
        "* Passing a database connection to the ArangoRDF constructor\n",
        "* You can also set a `default_graph` or `sub_graph`\n",
        "  * A `sub_graph` is equivalent to a named RDF graph and for now is only stored on the documents that are imported.\n",
        "* Instantiating ArangoRDF also creates an ArangoDB named graph for `default_graph`\n",
        "* Set any configuration options and metadata. Currenlty, the only supported option is `normalize_literals` which is `False` by default. You can write any other metadata to save here as well.\n",
        "* Finally, initialize the collections. Here you can use the defaults or set your own collection names, we set the blank nodes collection to `Blank`.\n",
        "\n"
      ]
    },
    {
      "cell_type": "code",
      "execution_count": null,
      "metadata": {
        "id": "mlq5BpN7ErhJ"
      },
      "outputs": [],
      "source": [
        "# Clean up existing data and collections\n",
        "if db.has_graph(\"default_graph\"):\n",
        "    db.delete_graph(\"default_graph\", drop_collections=True, ignore_missing=True)\n",
        "\n",
        "# Initializes default_graph and sets RDF graph identifier (ArangoDB sub_graph)\n",
        "# Optional: sub_graph (stores graph name as the 'graph' attribute on all edges in Statement collection)\n",
        "# Optional: default_graph (name of ArangoDB Named Graph, defaults to 'default_graph',\n",
        "#           is root graph that contains all collections/relations)\n",
        "adb_rdf = ArangoRDF(db, sub_graph=\"http://data.sfgov.org/ontology\") \n",
        "print(\"initialized graph\")\n",
        "config = {\"normalize_literals\": False}  # default: False\n",
        "\n",
        "# RDF Import\n",
        "adb_rdf.init_rdf_collections(bnode=\"Blank\")\n",
        "print(\"initialized collections\")"
      ]
    },
    {
      "cell_type": "markdown",
      "metadata": {
        "id": "6UpzYTVCIMMo"
      },
      "source": [
        "# Import RDF Data\n",
        "Now that we have setup our scaffolding for the RDF graphs, let's import some data.\n",
        "\n",
        "## Import an Ontology\n",
        "To import RDF graphs you simply call the `import_rdf` function and pass in the:\n",
        "\n",
        "\n",
        "*   file path\n",
        "*   format\n",
        "*   `config` object\n",
        "*   `save_config` is boolean that stores any config and metadata in the configuration collection to be used later.\n",
        "\n",
        "\n",
        "\n",
        "\n",
        "\n"
      ]
    },
    {
      "cell_type": "code",
      "execution_count": null,
      "metadata": {
        "id": "Lzv1ibrAJKe6"
      },
      "outputs": [],
      "source": [
        "print(\"importing ontology...\")\n",
        "# Start with importing the ontology\n",
        "adb_rdf.import_rdf(\"./ArangoRDF/examples/data/airport-ontology.owl\", format=\"xml\", config=config, save_config=True)\n",
        "print(\"Ontology imported\")"
      ]
    },
    {
      "cell_type": "markdown",
      "metadata": {
        "id": "LPinn1CrKFpY"
      },
      "source": [
        "Notice that we supplied `xml` for the format, this is because this owl file is serialized to RDF/xml. If we hadn't supplied this we would receive an error and the application would halt. "
      ]
    },
    {
      "cell_type": "markdown",
      "metadata": {
        "id": "dkwHfYwOJlk5"
      },
      "source": [
        "## Import RDF Data Graphs\n",
        "\n",
        "Now that you have imported your ontology it is time to import some data.\n",
        "The process is the same, the only difference is now we are now importing using a [Turtle](https://www.w3.org/2007/02/turtle/primer/) file whose format is `ttl`.\n",
        "\n",
        "I have also gone ahead and added an item to our config dictionary so that we can see how to get saved configuration information later."
      ]
    },
    {
      "cell_type": "code",
      "execution_count": null,
      "metadata": {
        "id": "kMBaIZDAKDIb"
      },
      "outputs": [],
      "source": [
        "config['Avocados_Are_Delicious'] = True\n",
        "\n",
        "print(\"importing aircraft data...\")\n",
        "\n",
        "# Next, let's import the actual graph data\n",
        "adb_rdf.import_rdf(f\"./ArangoRDF/examples/data/sfo-aircraft-partial.ttl\", format=\"ttl\", config=config, save_config=True)\n",
        "print(\"aircraft data imported\")\n"
      ]
    },
    {
      "cell_type": "markdown",
      "metadata": {
        "id": "SS6_ZE8CLAEm"
      },
      "source": [
        "## Configuration\n",
        "\n",
        "Now that we have stored the configuration information we have a couple easy ways to retrieve it should we ever need to.\n",
        "\n",
        "We can lookup saved configurations using to functions:\n",
        "* `get_config_by_latest()`\n",
        "* `get_config_by_key_value('key', 'value')`\n",
        "\n",
        "Now, you can pass this config dictionary to `import_rdf()` as is or change options in it. If no config is found, the application halts to avoid excessive import time with wrong configuration information."
      ]
    },
    {
      "cell_type": "code",
      "execution_count": null,
      "metadata": {
        "id": "piHGbfiCLff4"
      },
      "outputs": [],
      "source": [
        "# Get the last saved config\n",
        "config = adb_rdf.get_config_by_latest()\n",
        "print(config)\n",
        "print('')\n",
        "\n",
        "# Get the most recent config that matches our search \n",
        "config = adb_rdf.get_config_by_key_value('Avocados_Are_Delicious', True)\n",
        "print(config)"
      ]
    },
    {
      "cell_type": "markdown",
      "metadata": {
        "id": "qic66nCoMA5A"
      },
      "source": [
        "## Exporting to RDF\n",
        "Should the need ever arise that you are required to export data from ArangoDB you can do so using the `export_rdf()` function.\n",
        "\n",
        "Export only takes in the:\n",
        "* output filename\n",
        "* format "
      ]
    },
    {
      "cell_type": "code",
      "execution_count": null,
      "metadata": {
        "id": "lNaZVt0jMr8I"
      },
      "outputs": [],
      "source": [
        "print(\"exporting data...\")\n",
        "adb_rdf.export_rdf(f\"./ArangoRDF/examples/data/rdfExport.xml\", format=\"xml\")\n",
        "print(\"export complete\")"
      ]
    },
    {
      "cell_type": "markdown",
      "metadata": {
        "id": "yx190M9ENiR9"
      },
      "source": [
        "# What's Next?\n",
        "\n",
        "### We need your help!\n",
        "This is a fresh community project that has a lot more to be done. We gladly welcome any feedback, issues, and PRs. You can find the repository in the ArangoDB-Community GitHub organization, [here](https://github.com/ArangoDB-Community/ArangoRDF)."
      ]
    }
  ],
  "metadata": {
    "colab": {
      "name": "ArangoRDF.ipynb",
      "provenance": []
    },
    "gpuClass": "standard",
    "kernelspec": {
      "display_name": "Python 3",
      "name": "python3"
    },
    "language_info": {
      "name": "python"
    },
    "orig_nbformat": 4
  },
  "nbformat": 4,
  "nbformat_minor": 0
}
